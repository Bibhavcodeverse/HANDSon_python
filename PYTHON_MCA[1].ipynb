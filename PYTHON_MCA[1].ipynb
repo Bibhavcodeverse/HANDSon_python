{
 "cells": [
  {
   "cell_type": "markdown",
   "id": "3eb47067",
   "metadata": {},
   "source": [
    "Write a code to print \"Hello, Python World\"\n"
   ]
  },
  {
   "cell_type": "markdown",
   "id": "36de8878",
   "metadata": {},
   "source": [
    "### Question 1st output\n",
    "\n",
    "![output](./Q1stOutput.png)"
   ]
  },
  {
   "cell_type": "code",
   "execution_count": null,
   "id": "49e12053",
   "metadata": {},
   "outputs": [],
   "source": [
    "print(\"Hello, Python World\")"
   ]
  },
  {
   "cell_type": "markdown",
   "id": "6dac3ac5",
   "metadata": {},
   "source": [
    "Write a code to take input first name and last name from the user and print it in reverse order with space between them"
   ]
  },
  {
   "cell_type": "code",
   "execution_count": 5,
   "id": "fbed442e",
   "metadata": {},
   "outputs": [
    {
     "name": "stdout",
     "output_type": "stream",
     "text": [
      "Enter your first name: Bibhav\n",
      "Enter your last name: Kumar\n",
      "vahbiB   ramuK\n"
     ]
    }
   ],
   "source": [
    "first_name=input(\"Enter your first name: \")\n",
    "last_name=input(\"Enter your last name: \")\n",
    "\n",
    "print(first_name[::-1],\" \",last_name[::-1])"
   ]
  },
  {
   "cell_type": "markdown",
   "id": "9677bbd7",
   "metadata": {},
   "source": [
    "# Use slicing to reverse the name \n"
   ]
  },
  {
   "cell_type": "code",
   "execution_count": 9,
   "id": "e15e526f",
   "metadata": {},
   "outputs": [
    {
     "name": "stdout",
     "output_type": "stream",
     "text": [
      "BIBHAV\n",
      "kumar\n"
     ]
    }
   ],
   "source": [
    "print(first_name.upper())\n",
    "print(last_name.lower())"
   ]
  },
  {
   "cell_type": "markdown",
   "id": "d3f1cca1",
   "metadata": {},
   "source": [
    "upper() function is used to convert whole string in capital letter\n",
    "lower() function is used to convert whole string in capital letter"
   ]
  },
  {
   "cell_type": "markdown",
   "id": "cfc29c5b",
   "metadata": {},
   "source": [
    "<font color=\"Red\">Take a number and change it into int, float and complex."
   ]
  },
  {
   "cell_type": "code",
   "execution_count": null,
   "id": "3317e886",
   "metadata": {},
   "outputs": [],
   "source": [
    "<font color=\"blue\">int (Integer)\n",
    "\n",
    "    \n",
    "Description: Represents whole numbers, both positive and negative, without any fractional or decimal part.\n",
    "\n",
    "    \n",
    "Example: -10, 0, 42"
   ]
  },
  {
   "cell_type": "markdown",
   "id": "1edba2cf",
   "metadata": {},
   "source": [
    "<font color=\"blue\"> float (Floating Point)\n",
    "    \n",
    "Description: Represents real numbers, containing a fractional or decimal part. They are used for numbers that require precision beyond whole numbers.\n",
    "\n",
    "    \n",
    "Example: 3.14, -0.001, 2.0"
   ]
  },
  {
   "cell_type": "markdown",
   "id": "06921f1e",
   "metadata": {},
   "source": [
    " <font color=\"blue\">Complex (Complex Number)\n",
    "\n",
    "\n",
    "Description: Represents numbers that have both a real and an imaginary part. In Python, complex numbers are denoted as a + bj, where a is the real part and b is the imaginary part.\n",
    "\n",
    "    \n",
    "Example: 3 + 4j, 1.5 + 0j, -2 - 3j"
   ]
  },
  {
   "cell_type": "markdown",
   "id": "3f6bdebb",
   "metadata": {},
   "source": [
    "WAP to calculate the area of rectangle"
   ]
  },
  {
   "cell_type": "code",
   "execution_count": 1,
   "id": "01227e17",
   "metadata": {},
   "outputs": [
    {
     "name": "stdout",
     "output_type": "stream",
     "text": [
      "Enter length of rectangle:  6\n",
      "Enter breadth of rectangle:  8\n"
     ]
    },
    {
     "name": "stdout",
     "output_type": "stream",
     "text": [
      "This is the value of: 6\n",
      "This is the value of: 8\n"
     ]
    }
   ],
   "source": [
    "Length = int(input(\"Enter length of rectangle: \"))\n",
    "Breadth = int(input(\"Enter breadth of rectangle: \"))\n",
    "# Print the entered values\n",
    "print(\"This is the value of:\", Length)\n",
    "print(\"This is the value of:\", Breadth)"
   ]
  },
  {
   "cell_type": "code",
   "execution_count": 3,
   "id": "24b3d85c",
   "metadata": {},
   "outputs": [
    {
     "name": "stdout",
     "output_type": "stream",
     "text": [
      "48\n"
     ]
    }
   ],
   "source": [
    "area=Length*Breadth\n",
    "print(area)"
   ]
  },
  {
   "cell_type": "code",
   "execution_count": 4,
   "id": "43b0fa9b-cbdf-4020-bb5d-ec33c3e384cd",
   "metadata": {},
   "outputs": [
    {
     "name": "stdout",
     "output_type": "stream",
     "text": [
      "The area of the rectangle is 48.00\n"
     ]
    }
   ],
   "source": [
    "# Print the area with two decimal places\n",
    "print(f\"The area of the rectangle is {area:.2f}\")"
   ]
  },
  {
   "cell_type": "markdown",
   "id": "d534ba25-3c3e-46f4-a6f6-c853c68144c5",
   "metadata": {},
   "source": [
    "<font color = \"red\">Python script that takes three numbers as input and prints their average using the % method for string formatting:"
   ]
  },
  {
   "cell_type": "code",
   "execution_count": 8,
   "id": "d5248cf7-dfc6-4c6a-9ed3-592fb2d8439c",
   "metadata": {},
   "outputs": [
    {
     "name": "stdout",
     "output_type": "stream",
     "text": [
      "Enter the first number:  8\n",
      "Enter the second number:  9\n",
      "Enter the third number:  7\n"
     ]
    },
    {
     "name": "stdout",
     "output_type": "stream",
     "text": [
      "The average of the three numbers is 8.00\n"
     ]
    }
   ],
   "source": [
    "# Prompt the user to enter three numbers\n",
    "num1 = float(input(\"Enter the first number: \"))\n",
    "num2 = float(input(\"Enter the second number: \"))\n",
    "num3 = float(input(\"Enter the third number: \"))\n",
    "\n",
    "# Calculate the average of the three numbers\n",
    "calculated_average = (num1 + num2 + num3) / 3\n",
    "\n",
    "# Print the average using the % method for string formatting\n",
    "print(\"The average of the three numbers is %.2f\" % calculated_average)\n",
    "#The %.2f ensures that the floating-point number is displayed with exactly two decimal places, rounding as necessary"
   ]
  },
  {
   "cell_type": "code",
   "execution_count": 9,
   "id": "6a8c467e-ce7a-40e5-8482-81b9dfddd0e2",
   "metadata": {},
   "outputs": [
    {
     "name": "stdout",
     "output_type": "stream",
     "text": [
      "Enter a number (or type 'exit' to quit):  5\n"
     ]
    },
    {
     "name": "stdout",
     "output_type": "stream",
     "text": [
      "The number is positive.\n"
     ]
    },
    {
     "name": "stdout",
     "output_type": "stream",
     "text": [
      "Enter a number (or type 'exit' to quit):  6\n"
     ]
    },
    {
     "name": "stdout",
     "output_type": "stream",
     "text": [
      "The number is positive.\n"
     ]
    },
    {
     "name": "stdout",
     "output_type": "stream",
     "text": [
      "Enter a number (or type 'exit' to quit):  -2\n"
     ]
    },
    {
     "name": "stdout",
     "output_type": "stream",
     "text": [
      "The number is negative.\n"
     ]
    },
    {
     "name": "stdout",
     "output_type": "stream",
     "text": [
      "Enter a number (or type 'exit' to quit):  0\n"
     ]
    },
    {
     "name": "stdout",
     "output_type": "stream",
     "text": [
      "The number is zero.\n"
     ]
    },
    {
     "name": "stdout",
     "output_type": "stream",
     "text": [
      "Enter a number (or type 'exit' to quit):  exit\n"
     ]
    },
    {
     "name": "stdout",
     "output_type": "stream",
     "text": [
      "Exiting the program. Goodbye!\n"
     ]
    }
   ],
   "source": [
    "while True:\n",
    "    user_input = input(\"Enter a number (or type 'exit' to quit): \")\n",
    "    \n",
    "    if user_input.lower() == 'exit':\n",
    "        print(\"Exiting the program. Goodbye!\")\n",
    "        break\n",
    "    \n",
    "    try:\n",
    "        number = float(user_input)\n",
    "        if number > 0:\n",
    "            print(\"The number is positive.\")\n",
    "        elif number < 0:\n",
    "            print(\"The number is negative.\")\n",
    "        else:\n",
    "            print(\"The number is zero.\")\n",
    "    except ValueError:\n",
    "        print(\"Invalid input. Please enter a valid number or 'exit' to quit.\")"
   ]
  },
  {
   "cell_type": "markdown",
   "id": "db044994-8c2b-45fa-8082-4d809db19add",
   "metadata": {},
   "source": [
    "<font color=\"green\">This code will keep asking the user for input until they type 'exit'. If the input is a valid number, it will check whether the number is positive, negative, or zero, and print the appropriate message. If the input is not a valid number and not 'exit', it will prompt the user to enter a valid number."
   ]
  },
  {
   "cell_type": "code",
   "execution_count": 10,
   "id": "6ba2483a-6925-4883-9d88-e231c1b471c6",
   "metadata": {},
   "outputs": [
    {
     "name": "stdout",
     "output_type": "stream",
     "text": [
      "Enter the first number:  8\n",
      "Enter the second number:  6\n"
     ]
    },
    {
     "name": "stdout",
     "output_type": "stream",
     "text": [
      "Both numbers are even.\n"
     ]
    }
   ],
   "source": [
    "#Create a Python script that takes two numbers as input and prints whether both numbers are even, \n",
    "#odd, or one of each using relational and logical operators.\n",
    "\n",
    "if __name__ == \"__main__\":\n",
    "    try:\n",
    "        # Taking two numbers as input\n",
    "        num1 = int(input(\"Enter the first number: \"))\n",
    "        num2 = int(input(\"Enter the second number: \"))\n",
    "\n",
    "        # Using relational and logical operators to determine parity\n",
    "        if (num1 % 2 == 0) and (num2 % 2 == 0):\n",
    "            print(\"Both numbers are even.\")\n",
    "        elif (num1 % 2 != 0) and (num2 % 2 != 0):\n",
    "            print(\"Both numbers are odd.\")\n",
    "        else:\n",
    "            print(\"One number is even and one number is odd.\")\n",
    "    except ValueError:\n",
    "        print(\"Please enter valid integers.\")"
   ]
  },
  {
   "cell_type": "markdown",
   "id": "7b3976ee-97af-4bee-b901-bcbff650f532",
   "metadata": {},
   "source": [
    "<font color=\"red\">Using if __name__ == \"__main__\": ensures that the code within this block runs only when the script is executed directly. This is a common practice in Python to make scripts more modular and reusable.\n",
    "\n",
    "#Write a Python program that takes an integer input and prints its binary, octal, and hexadecimal equivalents using a for loop and bitwise operators."
   ]
  },
  {
   "cell_type": "code",
   "execution_count": 11,
   "id": "6a36f679-d65b-409d-8fd2-fbb2b2b22b3b",
   "metadata": {},
   "outputs": [
    {
     "name": "stdout",
     "output_type": "stream",
     "text": [
      "Enter an integer:  6\n"
     ]
    },
    {
     "name": "stdout",
     "output_type": "stream",
     "text": [
      "Binary equivalent: 110\n",
      "Octal equivalent: 6\n",
      "Hexadecimal equivalent: 6\n"
     ]
    }
   ],
   "source": [
    "# Taking integer input\n",
    "number = int(input(\"Enter an integer: \"))\n",
    "\n",
    "# Printing the binary, octal, and hexadecimal equivalents using built-in functions\n",
    "print(f\"Binary equivalent: {bin(number)[2:]}\")\n",
    "print(f\"Octal equivalent: {oct(number)[2:]}\")\n",
    "print(f\"Hexadecimal equivalent: {hex(number)[2:].upper()}\")\n"
   ]
  },
  {
   "cell_type": "markdown",
   "id": "1502532c-1624-4aaf-808e-f01091cd8232",
   "metadata": {},
   "source": [
    "<font color=\"red\">[2:] slices the string to remove the '0b' prefix."
   ]
  },
  {
   "cell_type": "code",
   "execution_count": null,
   "id": "97d2b3b2-a742-4c17-bbf4-9cb9939ff703",
   "metadata": {},
   "outputs": [],
   "source": []
  }
 ],
 "metadata": {
  "kernelspec": {
   "display_name": "Python 3 (ipykernel)",
   "language": "python",
   "name": "python3"
  },
  "language_info": {
   "codemirror_mode": {
    "name": "ipython",
    "version": 3
   },
   "file_extension": ".py",
   "mimetype": "text/x-python",
   "name": "python",
   "nbconvert_exporter": "python",
   "pygments_lexer": "ipython3",
   "version": "3.11.4"
  }
 },
 "nbformat": 4,
 "nbformat_minor": 5
}
