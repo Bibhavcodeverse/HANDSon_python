{
 "cells": [
  {
   "cell_type": "code",
   "execution_count": 1,
   "metadata": {},
   "outputs": [
    {
     "name": "stdout",
     "output_type": "stream",
     "text": [
      "6\n",
      "9\n",
      "21\n"
     ]
    }
   ],
   "source": [
    "def sum_numbers(*args, **kwargs):\n",
    "    # Sum of all positional arguments\n",
    "    total = sum(args)\n",
    "    \n",
    "    # Sum of all keyword arguments\n",
    "    total += sum(kwargs.values())\n",
    "    \n",
    "    return total\n",
    "\n",
    "# Example usage:\n",
    "print(sum_numbers(1, 2, 3))                    # Output: 6 (sum of 1, 2, 3)\n",
    "print(sum_numbers(a=4, b=5))                   # Output: 9 (sum of 4, 5)\n",
    "print(sum_numbers(1, 2, 3, x=4, y=5, z=6))     # Output: 21 (sum of 1, 2, 3, 4, 5, 6)\n"
   ]
  },
  {
   "cell_type": "code",
   "execution_count": null,
   "metadata": {},
   "outputs": [],
   "source": []
  }
 ],
 "metadata": {
  "kernelspec": {
   "display_name": "base",
   "language": "python",
   "name": "python3"
  },
  "language_info": {
   "codemirror_mode": {
    "name": "ipython",
    "version": 3
   },
   "file_extension": ".py",
   "mimetype": "text/x-python",
   "name": "python",
   "nbconvert_exporter": "python",
   "pygments_lexer": "ipython3",
   "version": "3.11.4"
  }
 },
 "nbformat": 4,
 "nbformat_minor": 2
}
