{
 "cells": [
  {
   "cell_type": "code",
   "execution_count": 2,
   "metadata": {},
   "outputs": [
    {
     "name": "stdout",
     "output_type": "stream",
     "text": [
      "Match found: hello\n"
     ]
    }
   ],
   "source": [
    "import re\n",
    "pattern=r\"h.llo\"\n",
    "text=\"hello\"\n",
    "match = re.search(pattern, text)\n",
    "print(\"Match found:\", match.group() if match else \"No match\")"
   ]
  },
  {
   "cell_type": "code",
   "execution_count": 12,
   "metadata": {},
   "outputs": [
    {
     "name": "stdout",
     "output_type": "stream",
     "text": [
      "Greedy match: content\n",
      "Lazy match: \n"
     ]
    }
   ],
   "source": [
    "pattern = r\".*\"\n",
    "text = \"content\"\n",
    "match = re.search(pattern, text)\n",
    "print(\"Greedy match:\", match.group())\n",
    "\n",
    "pattern_lazy = r\".*?\"\n",
    "match_lazy = re.search(pattern_lazy, text)\n",
    "print(\"Lazy match:\", match_lazy.group())"
   ]
  },
  {
   "cell_type": "code",
   "execution_count": 13,
   "metadata": {},
   "outputs": [
    {
     "name": "stdout",
     "output_type": "stream",
     "text": [
      "Greedy match: content\n",
      "Lazy match: c\n"
     ]
    }
   ],
   "source": [
    "pattern = r\".+\"\n",
    "text = \"content\"\n",
    "match = re.search(pattern, text)\n",
    "print(\"Greedy match:\", match.group())\n",
    "\n",
    "pattern_lazy = r\".+?\"\n",
    "match_lazy = re.search(pattern_lazy, text)\n",
    "print(\"Lazy match:\", match_lazy.group())"
   ]
  },
  {
   "cell_type": "code",
   "execution_count": 16,
   "metadata": {},
   "outputs": [
    {
     "name": "stdout",
     "output_type": "stream",
     "text": [
      "Area code: 123\n",
      "Local code: 45\n"
     ]
    }
   ],
   "source": [
    "pattern = r\"(\\d{3})-*(\\d{2})\"\n",
    "text = \"Phone number: 123-45\"\n",
    "match = re.search(pattern, text)\n",
    "print(\"Area code:\", match.group(1))\n",
    "print(\"Local code:\", match.group(2))\n"
   ]
  },
  {
   "cell_type": "code",
   "execution_count": 17,
   "metadata": {},
   "outputs": [
    {
     "name": "stdout",
     "output_type": "stream",
     "text": [
      "Matched text: world\n",
      "Start position: 6\n",
      "End position: 11\n"
     ]
    }
   ],
   "source": [
    "pattern = r\"world\"\n",
    "text = \"Hello world\"\n",
    "match = re.search(pattern, text)\n",
    "print(\"Matched text:\", match.group())\n",
    "print(\"Start position:\", match.start())\n",
    "print(\"End position:\", match.end())"
   ]
  },
  {
   "cell_type": "code",
   "execution_count": 18,
   "metadata": {},
   "outputs": [
    {
     "name": "stdout",
     "output_type": "stream",
     "text": [
      "After substitution: The dog sat on the mat.\n"
     ]
    }
   ],
   "source": [
    "pattern = r\"cat\"\n",
    "text = \"The cat sat on the mat.\"\n",
    "result = re.sub(pattern, \"dog\", text)\n",
    "print(\"After substitution:\", result)"
   ]
  },
  {
   "cell_type": "code",
   "execution_count": 19,
   "metadata": {},
   "outputs": [
    {
     "name": "stdout",
     "output_type": "stream",
     "text": [
      "Split result: ['Split', 'this', 'sentence', 'by', 'spaces']\n"
     ]
    }
   ],
   "source": [
    "pattern = r\"\\s+\"\n",
    "text = \"Split this sentence by spaces\"\n",
    "result = re.split(pattern, text)\n",
    "print(\"Split result:\", result)"
   ]
  },
  {
   "cell_type": "code",
   "execution_count": 6,
   "metadata": {},
   "outputs": [
    {
     "name": "stdout",
     "output_type": "stream",
     "text": [
      "Case-insensitive match: Hello\n"
     ]
    }
   ],
   "source": [
    "\n",
    "pattern = r\"hello\"\n",
    "text = \"Hello\"\n",
    "match = re.search(pattern, text, re.IGNORECASE)\n",
    "print(\"Case-insensitive match:\", match.group() if match else \"No match\")"
   ]
  },
  {
   "cell_type": "code",
   "execution_count": 9,
   "metadata": {},
   "outputs": [
    {
     "ename": "SyntaxError",
     "evalue": "unterminated string literal (detected at line 4) (1581867421.py, line 4)",
     "output_type": "error",
     "traceback": [
      "\u001b[1;36m  Cell \u001b[1;32mIn[9], line 4\u001b[1;36m\u001b[0m\n\u001b[1;33m    pattern = r'^[a-zA-Z0-9._%+-]+@[a-zA-Z0-9.-]+\\.[a-zA-Z]{2,}\u001b[0m\n\u001b[1;37m              ^\u001b[0m\n\u001b[1;31mSyntaxError\u001b[0m\u001b[1;31m:\u001b[0m unterminated string literal (detected at line 4)\n"
     ]
    }
   ],
   "source": [
    "import re\n",
    "\n",
    "def is_valid_email(email):\n",
    "    pattern = r'^[a-zA-Z0-9._%+-]+@[a-zA-Z0-9.-]+\\.[a-zA-Z]{2,}\n",
    "\n",
    "Explanation:\n",
    "\n",
    "\n",
    "\t^ and $ assert the start and end of the string.\n",
    " \n",
    "\n",
    "\tThe pattern matches:\n",
    " \n",
    "> Characters before the @ (letters, numbers, and certain symbols).\n",
    "> The domain name and top-level domain (TLD)."
   ]
  },
  {
   "cell_type": "code",
   "execution_count": 10,
   "metadata": {},
   "outputs": [
    {
     "name": "stdout",
     "output_type": "stream",
     "text": [
      "test.email@example.com is valid\n",
      "invalid-email@example is invalid\n",
      "another.test@domain.co is valid\n",
      "wrong@domain,com is invalid\n",
      "valid.email@sub.domain.com is valid\n"
     ]
    }
   ],
   "source": [
    "# wRT a program that takes a list of emails and print whether its valid or invalid \n",
    "import re\n",
    "\n",
    "def is_valid_email(email):\n",
    "    # Regular expression for validating an email\n",
    "    regex = r'^[a-zA-Z0-9._%+-]+@[a-zA-Z0-9.-]+\\.[a-zA-Z]{2,}$'\n",
    "    # Match the email against the regex\n",
    "    if re.match(regex, email):\n",
    "        return True\n",
    "    else:\n",
    "        return False\n",
    "\n",
    "def validate_emails(email_list):\n",
    "    for email in email_list:\n",
    "        if is_valid_email(email):\n",
    "            print(f\"{email} is valid\")\n",
    "        else:\n",
    "            print(f\"{email} is invalid\")\n",
    "\n",
    "# Example usage\n",
    "emails = [\n",
    "    \"test.email@example.com\",\n",
    "    \"invalid-email@example\",\n",
    "    \"another.test@domain.co\",\n",
    "    \"wrong@domain,com\",\n",
    "    \"valid.email@sub.domain.com\"\n",
    "]\n",
    "\n",
    "validate_emails(emails)\n"
   ]
  },
  {
   "cell_type": "code",
   "execution_count": 11,
   "metadata": {},
   "outputs": [],
   "source": [
    "#Write a function that checks if a password is strong . A strong password must contains\n",
    "# At least 8 character\n",
    "# At least one uppercase letteer\n",
    "#At least one lowecase\n",
    "# At least one digit\n",
    "# At least one speacial character\n"
   ]
  },
  {
   "cell_type": "code",
   "execution_count": 12,
   "metadata": {},
   "outputs": [
    {
     "name": "stdout",
     "output_type": "stream",
     "text": [
      "'Password123!' is a strong password.\n",
      "'weakpass' is not a strong password.\n",
      "'Strong1!' is a strong password.\n",
      "'NoSpecialChar123' is not a strong password.\n",
      "'short1!' is not a strong password.\n",
      "'ValidPass1@' is a strong password.\n"
     ]
    }
   ],
   "source": [
    "import re\n",
    "\n",
    "def is_strong_password(password):\n",
    "    # Check if the password has at least 8 characters\n",
    "    if len(password) < 8:\n",
    "        return False\n",
    "\n",
    "    # Check for at least one uppercase letter\n",
    "    if not re.search(r'[A-Z]', password):\n",
    "        return False\n",
    "\n",
    "    # Check for at least one lowercase letter\n",
    "    if not re.search(r'[a-z]', password):\n",
    "        return False\n",
    "\n",
    "    # Check for at least one digit\n",
    "    if not re.search(r'\\d', password):\n",
    "        return False\n",
    "\n",
    "    # Check for at least one special character\n",
    "    if not re.search(r'[!@#$%^&*(),.?\":{}|<>]', password):\n",
    "        return False\n",
    "\n",
    "    # If all checks passed, the password is strong\n",
    "    return True\n",
    "\n",
    "# Example usage\n",
    "passwords = [\n",
    "    \"Password123!\",\n",
    "    \"weakpass\",\n",
    "    \"Strong1!\",\n",
    "    \"NoSpecialChar123\",\n",
    "    \"short1!\",\n",
    "    \"ValidPass1@\"\n",
    "]\n",
    "\n",
    "for pwd in passwords:\n",
    "    if is_strong_password(pwd):\n",
    "        print(f\"'{pwd}' is a strong password.\")\n",
    "    else:\n",
    "        print(f\"'{pwd}' is not a strong password.\")\n"
   ]
  },
  {
   "cell_type": "code",
   "execution_count": 13,
   "metadata": {},
   "outputs": [
    {
     "name": "stdout",
     "output_type": "stream",
     "text": [
      "True\n"
     ]
    }
   ],
   "source": [
    "import re\n",
    "def is_strong_password(password):\n",
    "    if len(password) < 8:\n",
    "        return False\n",
    "    if not re.search(r\"[A-Z]\", password):\n",
    "        return False\n",
    "    if not re.search(r\"[a-z]\", password):\n",
    "        return False\n",
    "    if not re.search(r\"[0-9]\", password):\n",
    "        return False\n",
    "    if not re.search(r\"[!@#$%^&*(),.?\\\":{}|<>]\", password):\n",
    "        return False\n",
    "    return True\n",
    "\n",
    "password = \"StrongP@ssw0rd\"\n",
    "print(is_strong_password(password))"
   ]
  },
  {
   "cell_type": "code",
   "execution_count": null,
   "metadata": {},
   "outputs": [],
   "source": []
  }
 ],
 "metadata": {
  "kernelspec": {
   "display_name": "Python 3",
   "language": "python",
   "name": "python3"
  },
  "language_info": {
   "codemirror_mode": {
    "name": "ipython",
    "version": 3
   },
   "file_extension": ".py",
   "mimetype": "text/x-python",
   "name": "python",
   "nbconvert_exporter": "python",
   "pygments_lexer": "ipython3",
   "version": "3.11.5"
  }
 },
 "nbformat": 4,
 "nbformat_minor": 2
}
