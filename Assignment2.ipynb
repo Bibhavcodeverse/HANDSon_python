{
 "cells": [
  {
   "cell_type": "markdown",
   "metadata": {},
   "source": [
    "# Question 1 :  Write a python code to create a function greet that takes two arguments: name (a string) and greeting (a string with a default value of \"Hello\"). The function should return a greeting message."
   ]
  },
  {
   "cell_type": "code",
   "execution_count": 9,
   "metadata": {},
   "outputs": [
    {
     "name": "stdout",
     "output_type": "stream",
     "text": [
      "Hello, Bibhav!\n",
      "Hi, Shanu!\n",
      "Good morning, Vandana!\n"
     ]
    }
   ],
   "source": [
    "def greet(name, greeting=\"Hello\"):\n",
    "    return f\"{greeting}, {name}!\"\n",
    "\n",
    "\n",
    "print(greet(\"Bibhav\"))           \n",
    "print(greet(\"Shanu\", \"Hi\"))      \n",
    "print(greet(\"Vandana\", \"Good morning\"))\n"
   ]
  },
  {
   "cell_type": "markdown",
   "metadata": {},
   "source": [
    " # Question 2 :Create a function create_profile that taks arguments for name, age, and city as named arguments. The function should return a string like \"Name: Alice, Age:25, City: new York\". Ensure the age argument has a default value of 18."
   ]
  },
  {
   "cell_type": "code",
   "execution_count": 10,
   "metadata": {},
   "outputs": [
    {
     "name": "stdout",
     "output_type": "stream",
     "text": [
      "Name: Alice, Age: 25, City: New York\n",
      "Name: Bob, Age: 18, City: Los Angeles\n"
     ]
    }
   ],
   "source": [
    "def create_profile(*, name, age=18, city):\n",
    "    return f\"Name: {name}, Age: {age}, City: {city}\"\n",
    "\n",
    "# Example usage:\n",
    "print(create_profile(name=\"Alice\", age=25, city=\"New York\"))  # Output: Name: Alice, Age: 25, City: New York\n",
    "print(create_profile(name=\"Bob\", city=\"Los Angeles\"))         # Output: Name: Bob, Age: 18, City: Los Angeles\n"
   ]
  },
  {
   "cell_type": "markdown",
   "metadata": {},
   "source": [
    " # Question 3 : Write a function sum_numbers that takes any number of positional arguments and (args) and keyword (*Kwargs)."
   ]
  },
  {
   "cell_type": "code",
   "execution_count": 11,
   "metadata": {},
   "outputs": [
    {
     "name": "stdout",
     "output_type": "stream",
     "text": [
      "6\n",
      "9\n",
      "21\n"
     ]
    }
   ],
   "source": [
    "def sum_numbers(*args, **kwargs):\n",
    "    # Sum of all positional arguments\n",
    "    total = sum(args)\n",
    "    \n",
    "    # Sum of all keyword arguments\n",
    "    total += sum(kwargs.values())\n",
    "    \n",
    "    return total\n",
    "\n",
    "# Example usage:\n",
    "print(sum_numbers(1, 2, 3))                    # Output: 6 (sum of 1, 2, 3)\n",
    "print(sum_numbers(a=4, b=5))                   # Output: 9 (sum of 4, 5)\n",
    "print(sum_numbers(1, 2, 3, x=4, y=5, z=6))     # Output: 21 (sum of 1, 2, 3, 4, 5, 6)\n"
   ]
  },
  {
   "cell_type": "markdown",
   "metadata": {},
   "source": [
    "# Question 4 :Write a python code to print function that uses map and a lambda to return a list where each element is squared."
   ]
  },
  {
   "cell_type": "code",
   "execution_count": 12,
   "metadata": {},
   "outputs": [
    {
     "name": "stdout",
     "output_type": "stream",
     "text": [
      "[1, 4, 9, 16, 25]\n"
     ]
    }
   ],
   "source": [
    "# Function to square each element in a list\n",
    "def square_elements(input_list):\n",
    "    return list(map(lambda x: x ** 2, input_list))\n",
    "\n",
    "# Example usage:\n",
    "input_list = [1, 2, 3, 4, 5]\n",
    "squared_list = square_elements(input_list)\n",
    "print(squared_list)  # Output: [1, 4, 9, 16, 25]\n"
   ]
  },
  {
   "cell_type": "markdown",
   "metadata": {},
   "source": [
    "# Question 5: Write a function that filters out all odd numbers from a list using filters and a lambda function. "
   ]
  },
  {
   "cell_type": "code",
   "execution_count": 13,
   "metadata": {},
   "outputs": [
    {
     "name": "stdout",
     "output_type": "stream",
     "text": [
      "[2, 4, 6, 8, 10]\n"
     ]
    }
   ],
   "source": [
    "# Function to filter out all odd numbers from a list\n",
    "def filter_even_numbers(input_list):\n",
    "    return list(filter(lambda x: x % 2 == 0, input_list))\n",
    "\n",
    "# Example usage:\n",
    "input_list = [1, 2, 3, 4, 5, 6, 7, 8, 9, 10]\n",
    "filtered_list = filter_even_numbers(input_list)\n",
    "print(filtered_list)  # Output: [2, 4, 6, 8, 10]\n"
   ]
  },
  {
   "cell_type": "markdown",
   "metadata": {},
   "source": [
    "# Question 6: Create a list comprehension that takes a list of numbers and returns a list of their squares."
   ]
  },
  {
   "cell_type": "code",
   "execution_count": 14,
   "metadata": {},
   "outputs": [
    {
     "name": "stdout",
     "output_type": "stream",
     "text": [
      "[1, 4, 9, 16, 25]\n"
     ]
    }
   ],
   "source": [
    "# Function to square each element in a list using list comprehension\n",
    "def square_elements(input_list):\n",
    "    return [x ** 2 for x in input_list]\n",
    "\n",
    "# Example usage:\n",
    "input_list = [1, 2, 3, 4, 5]\n",
    "squared_list = square_elements(input_list)\n",
    "print(squared_list)  # Output: [1, 4, 9, 16, 25]\n"
   ]
  },
  {
   "cell_type": "markdown",
   "metadata": {},
   "source": [
    "# Question 7: Write a function that filters out all odd numbers from a list using filters and a lambda function."
   ]
  },
  {
   "cell_type": "code",
   "execution_count": 15,
   "metadata": {},
   "outputs": [
    {
     "name": "stdout",
     "output_type": "stream",
     "text": [
      "[2, 4, 6, 8, 10]\n"
     ]
    }
   ],
   "source": [
    "# Function to filter out all odd numbers from a list using list comprehension\n",
    "def filter_even_numbers(input_list):\n",
    "    return [x for x in input_list if x % 2 == 0]\n",
    "\n",
    "# Example usage:\n",
    "input_list = [1, 2, 3, 4, 5, 6, 7, 8, 9, 10]\n",
    "filtered_list = filter_even_numbers(input_list)\n",
    "print(filtered_list)  # Output: [2, 4, 6, 8, 10]\n"
   ]
  },
  {
   "cell_type": "markdown",
   "metadata": {},
   "source": [
    "# Question 8: Write a function file_operations that creates a directory named \"test_folder\" using os.makedirs() then, pause the execution for 3 seconds #using time.sleep(), and finally, delete the directory using os.rmdir(). "
   ]
  },
  {
   "cell_type": "code",
   "execution_count": 16,
   "metadata": {},
   "outputs": [
    {
     "name": "stdout",
     "output_type": "stream",
     "text": [
      "Directory 'test_folder' created.\n",
      "Paused for 3 seconds.\n",
      "Directory 'test_folder' deleted.\n"
     ]
    }
   ],
   "source": [
    "import os\n",
    "import time\n",
    "\n",
    "def file_operations():\n",
    "    # Create a directory named \"test_folder\"\n",
    "    os.makedirs(\"test_folder\")\n",
    "    print(\"Directory 'test_folder' created.\")\n",
    "    \n",
    "    # Pause the execution for 3 seconds\n",
    "    time.sleep(3)\n",
    "    print(\"Paused for 3 seconds.\")\n",
    "    \n",
    "    # Delete the directory named \"test_folder\"\n",
    "    os.rmdir(\"test_folder\")\n",
    "    print(\"Directory 'test_folder' deleted.\")\n",
    "\n",
    "# Example usage:\n",
    "file_operations()\n"
   ]
  },
  {
   "cell_type": "markdown",
   "metadata": {},
   "source": [
    "# Question 9: Write a python script that imports only sleep from the time modules and renames it to pause. Use it to pause execution for 2 seconds and #print \"paused execution....\" "
   ]
  },
  {
   "cell_type": "code",
   "execution_count": 17,
   "metadata": {},
   "outputs": [
    {
     "name": "stdout",
     "output_type": "stream",
     "text": [
      "paused execution....\n"
     ]
    }
   ],
   "source": [
    "# Import only the sleep function from the time module and rename it to pause\n",
    "from time import sleep as pause\n",
    "\n",
    "# Pause the execution for 2 seconds\n",
    "pause(2)\n",
    "\n",
    "# Print message after pausing\n",
    "print(\"paused execution....\")\n"
   ]
  },
  {
   "cell_type": "markdown",
   "metadata": {},
   "source": [
    "# Question 10 : Write a recursive function  flatten_list that can flatten a nested list of any depth using*args and**kwargs."
   ]
  },
  {
   "cell_type": "code",
   "execution_count": 18,
   "metadata": {},
   "outputs": [
    {
     "name": "stdout",
     "output_type": "stream",
     "text": [
      "[1, 2, 3, 4, 5, 6, 7, 8, 9]\n"
     ]
    }
   ],
   "source": [
    "def flatten_list(*args):\n",
    "    flat_list = []\n",
    "    \n",
    "    for item in args:\n",
    "        if isinstance(item, list):  # Check if the item is a list\n",
    "            flat_list.extend(flatten_list(*item))  # Recursively flatten the nested list\n",
    "        else:\n",
    "            flat_list.append(item)  # Append non-list items directly\n",
    "    \n",
    "    return flat_list\n",
    "\n",
    "# Example usage:\n",
    "nested_list = [1, [2, 3, [4, 5]], 6, [7, [8, 9]]]\n",
    "flattened = flatten_list(*nested_list)\n",
    "print(flattened)  # Output: [1, 2, 3, 4, 5, 6, 7, 8, 9]\n"
   ]
  },
  {
   "cell_type": "code",
   "execution_count": null,
   "metadata": {},
   "outputs": [],
   "source": []
  }
 ],
 "metadata": {
  "kernelspec": {
   "display_name": "base",
   "language": "python",
   "name": "python3"
  },
  "language_info": {
   "codemirror_mode": {
    "name": "ipython",
    "version": 3
   },
   "file_extension": ".py",
   "mimetype": "text/x-python",
   "name": "python",
   "nbconvert_exporter": "python",
   "pygments_lexer": "ipython3",
   "version": "3.11.4"
  }
 },
 "nbformat": 4,
 "nbformat_minor": 2
}
