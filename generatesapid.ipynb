{
 "cells": [
  {
   "cell_type": "code",
   "execution_count": null,
   "metadata": {},
   "outputs": [],
   "source": [
    "# def generate_email(sapid):\n",
    "#     return f\"{sapid}@example.com\"\n",
    "\n",
    "# def generate_emails_function(sapids):\n",
    "#     emails = []\n",
    "#     for sapid in sapids:\n",
    "#         emails.append(generate_email(sapid))\n",
    "#     return emails\n",
    "\n",
    "# # Example usage\n",
    "# sapids = ['12345', '67890', '54321']\n",
    "# emails = generate_emails_function(sapids)\n",
    "# print(\"Using functions:\", emails)\n"
   ]
  },
  {
   "cell_type": "code",
   "execution_count": 2,
   "metadata": {},
   "outputs": [
    {
     "data": {
      "text/plain": [
       "['123@stu.upes.ac.in',\n",
       " '234324@stu.upes.ac.in',\n",
       " '345345@stu.upes.ac.in',\n",
       " '4545@stu.upes.ac.in']"
      ]
     },
     "execution_count": 2,
     "metadata": {},
     "output_type": "execute_result"
    }
   ],
   "source": [
    " #1st logic\n",
    "\n",
    "sapids= [123,234324,345345,4545]\n",
    "def id2email(id):\n",
    "    return str(id) +\"@stu.upes.ac.in\"\n",
    "def sapids_to_emails(sapids):\n",
    "    emails=[]\n",
    "    for id in sapids:\n",
    "        email= id2email(id)\n",
    "        emails.append(email)\n",
    "\n",
    "    return emails\n",
    "list_of_emails=sapids_to_emails(sapids)\n",
    "list_of_emails\n"
   ]
  },
  {
   "cell_type": "code",
   "execution_count": 6,
   "metadata": {},
   "outputs": [
    {
     "data": {
      "text/plain": [
       "['123@stu.upes.ac.in',\n",
       " '234324@stu.upes.ac.in',\n",
       " '345345@stu.upes.ac.in',\n",
       " '4545@stu.upes.ac.in']"
      ]
     },
     "execution_count": 6,
     "metadata": {},
     "output_type": "execute_result"
    }
   ],
   "source": [
    "sapids= [123,234324,345345,4545]\n",
    "\n",
    "def id2email(id):\n",
    "    return str(id)+ \"@stu.upes.ac.in\"\n",
    "\n",
    "# list_of_emails= map(id2email,sapids) # for python 2\n",
    "list_of_emails =list(map(id2email,sapids))\n",
    "list_of_emails"
   ]
  },
  {
   "cell_type": "code",
   "execution_count": 7,
   "metadata": {},
   "outputs": [
    {
     "data": {
      "text/plain": [
       "['123@stu.upes.ac.in',\n",
       " '234324@stu.upes.ac.in',\n",
       " '345345@stu.upes.ac.in',\n",
       " '4545@stu.upes.ac.in']"
      ]
     },
     "execution_count": 7,
     "metadata": {},
     "output_type": "execute_result"
    }
   ],
   "source": [
    "sapids= [123,234324,345345,4545]\n",
    "\n",
    "# def id2email(id):\n",
    "    # return str(id)+ \"@stu.upes.ac.in\"\n",
    "\n",
    "# list_of_emails= map(id2email,sapids) # for python 2\n",
    "list_of_emails =list(map(lambda id: str(id)+ \"@stu.upes.ac.in\",sapids))\n",
    "list_of_emails"
   ]
  },
  {
   "cell_type": "code",
   "execution_count": null,
   "metadata": {},
   "outputs": [],
   "source": [
    "# 3rd logic using list comprehensive\n",
    "sapids=[123,234,566778,454]"
   ]
  }
 ],
 "metadata": {
  "kernelspec": {
   "display_name": "Python 3",
   "language": "python",
   "name": "python3"
  },
  "language_info": {
   "codemirror_mode": {
    "name": "ipython",
    "version": 3
   },
   "file_extension": ".py",
   "mimetype": "text/x-python",
   "name": "python",
   "nbconvert_exporter": "python",
   "pygments_lexer": "ipython3",
   "version": "3.11.5"
  }
 },
 "nbformat": 4,
 "nbformat_minor": 2
}
