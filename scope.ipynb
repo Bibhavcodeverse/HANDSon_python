{
 "cells": [
  {
   "cell_type": "code",
   "execution_count": 1,
   "metadata": {},
   "outputs": [
    {
     "name": "stdout",
     "output_type": "stream",
     "text": [
      "30\n",
      "20\n",
      "10\n"
     ]
    }
   ],
   "source": [
    "# main file \n",
    "\n",
    "x=10\n",
    "\n",
    "def outer_function():\n",
    "    x=20 # enclosing variable\n",
    "    def inner_function():\n",
    "        x=30# local variable\n",
    "        print(x)\n",
    "    inner_function()\n",
    "    print(x)\n",
    "outer_function()\n",
    "print(x)"
   ]
  },
  {
   "cell_type": "code",
   "execution_count": 3,
   "metadata": {},
   "outputs": [
    {
     "name": "stdout",
     "output_type": "stream",
     "text": [
      "8\n"
     ]
    }
   ],
   "source": [
    "add= lambda a, b: a+b\n",
    "print(add(3,5))"
   ]
  },
  {
   "cell_type": "code",
   "execution_count": 6,
   "metadata": {},
   "outputs": [
    {
     "name": "stdout",
     "output_type": "stream",
     "text": [
      "[1, 4, 1156, 25]\n"
     ]
    }
   ],
   "source": [
    "numbers =[1,2,34,5]\n",
    "squared= map(lambda x: x*x,numbers)\n",
    "print(list(squared))"
   ]
  },
  {
   "cell_type": "code",
   "execution_count": 8,
   "metadata": {},
   "outputs": [
    {
     "name": "stdout",
     "output_type": "stream",
     "text": [
      "6\n"
     ]
    }
   ],
   "source": [
    "# wrrite a funtion to multiply 3 numbers and returns its result using lambda function\n",
    "\n",
    "prod= lambda d,e,f: d*e*f\n",
    "print(prod(1,2,3))"
   ]
  },
  {
   "cell_type": "code",
   "execution_count": 10,
   "metadata": {},
   "outputs": [
    {
     "name": "stdout",
     "output_type": "stream",
     "text": [
      "[2, 34]\n"
     ]
    }
   ],
   "source": [
    "even_numbers=filter(lambda x: x%2==0,numbers)\n",
    "print(list(even_numbers))"
   ]
  },
  {
   "cell_type": "code",
   "execution_count": 13,
   "metadata": {},
   "outputs": [
    {
     "name": "stdout",
     "output_type": "stream",
     "text": [
      "[0, 4, 16, 36, 64]\n"
     ]
    }
   ],
   "source": [
    "Square =[]\n",
    "for i in range(10):\n",
    "    if i%2==0:\n",
    "        Square.append(i**2)\n",
    "print(Square)"
   ]
  },
  {
   "cell_type": "code",
   "execution_count": 14,
   "metadata": {},
   "outputs": [
    {
     "name": "stdout",
     "output_type": "stream",
     "text": [
      "[0, 4, 16, 36, 64]\n"
     ]
    }
   ],
   "source": [
    "# Uisng list comprehension\n",
    "\n",
    "squared= [i**2 for i in range(10) if i%2==0]\n",
    "print(squared)"
   ]
  },
  {
   "cell_type": "markdown",
   "metadata": {},
   "source": []
  },
  {
   "cell_type": "code",
   "execution_count": 1,
   "metadata": {},
   "outputs": [],
   "source": [
    "# write a program that takes directory address from the user and returns a list of file names in that directory we have to use os model to perform this action. "
   ]
  },
  {
   "cell_type": "code",
   "execution_count": 3,
   "metadata": {},
   "outputs": [
    {
     "name": "stdout",
     "output_type": "stream",
     "text": [
      "The specified directory does not exist.\n"
     ]
    }
   ],
   "source": [
    "import os\n",
    "\n",
    "# def list_files_in_directory():\n",
    "#     # Take the directory address from the user\n",
    "#     directory = input(\"Please enter the directory address: \")\n",
    "\n",
    "#     # Check if the directory exists\n",
    "#     if not os.path.isdir(directory):\n",
    "#         print(\"The specified directory does not exist.\")\n",
    "#         return\n",
    "    \n",
    "#     # List the files in the directory\n",
    "#     files = os.listdir(directory)\n",
    "\n",
    "#     # Filter out directories, keeping only files\n",
    "#     files = [file for file in files if os.path.isfile(os.path.join(directory, file))]\n",
    "\n",
    "#     return files\n",
    "\n",
    "# # Get the list of files and print them\n",
    "# files = list_files_in_directory()\n",
    "# if files is not None:\n",
    "#     print(\"Files in the directory:\")\n",
    "#     for file in files:\n",
    "#         print(file)\n"
   ]
  },
  {
   "cell_type": "code",
   "execution_count": 14,
   "metadata": {},
   "outputs": [
    {
     "ename": "SyntaxError",
     "evalue": "invalid syntax (593624758.py, line 5)",
     "output_type": "error",
     "traceback": [
      "\u001b[1;36m  Cell \u001b[1;32mIn[14], line 5\u001b[1;36m\u001b[0m\n\u001b[1;33m    address= input(C:\\Users\\BIBHAV KUMAR\\OneDrive\\Desktop\\AIML)\u001b[0m\n\u001b[1;37m                    ^\u001b[0m\n\u001b[1;31mSyntaxError\u001b[0m\u001b[1;31m:\u001b[0m invalid syntax\n"
     ]
    }
   ],
   "source": [
    "import os\n",
    "\n",
    "help (os)\n",
    "\n",
    "address= input(\"C:\\Users\\BIBHAV KUMAR\\OneDrive\\Desktop\\AIML\")\n",
    "#address= \"C:\\Users\\BIBHAV KUMAR\\OneDrive\\Desktop\\AIML\"\n",
    "os.chdir(address)\n",
    "list_of_files= os.listdir()\n",
    "list_of_files"
   ]
  },
  {
   "cell_type": "code",
   "execution_count": null,
   "metadata": {},
   "outputs": [],
   "source": []
  },
  {
   "cell_type": "code",
   "execution_count": 15,
   "metadata": {},
   "outputs": [],
   "source": [
    "# waf that generates list of emails address using of sapids\n",
    "# generate email address using sapid\n",
    "\n",
    "# sapid\n",
    "# email\n",
    "# using \n",
    "#1. functions\n",
    "#2. map/filter and lambda\n",
    "#3. list comprehension\n",
    "# sapids= [123,234324,345345,4545]\n",
    "# list_of_emails=# your logic\n",
    "\n"
   ]
  },
  {
   "cell_type": "code",
   "execution_count": 16,
   "metadata": {},
   "outputs": [],
   "source": [
    "# def generate_email(sapid):\n",
    "#     return f\"{sapid}@example.com\"\n",
    "\n",
    "# def generate_emails_function(sapids):\n",
    "#     emails = []\n",
    "#     for sapid in sapids:\n",
    "#         emails.append(generate_email(sapid))\n",
    "#     return emails\n",
    "\n",
    "# # Example usage\n",
    "# sapids = ['12345', '67890', '54321']\n",
    "# emails = generate_emails_function(sapids)\n",
    "# print(\"Using functions:\", emails)\n"
   ]
  },
  {
   "cell_type": "code",
   "execution_count": 19,
   "metadata": {},
   "outputs": [
    {
     "data": {
      "text/plain": [
       "['123@stu.upes.ac.in',\n",
       " '234324@stu.upes.ac.in',\n",
       " '345345@stu.upes.ac.in',\n",
       " '4545@stu.upes.ac.in']"
      ]
     },
     "execution_count": 19,
     "metadata": {},
     "output_type": "execute_result"
    }
   ],
   "source": [
    "# 1st logic\n",
    "\n",
    "sapids= [123,234324,345345,4545]\n",
    "def id2email(id):\n",
    "    return str(id) +\"@stu.upes.ac.in\"\n",
    "def sapids_to_emails(sapids):\n",
    "    emails=[]\n",
    "    for id in sapids:\n",
    "        email= id2email(id)\n",
    "        emails.append(email)\n",
    "\n",
    "    return emails\n",
    "list_of_emails=sapids_to_emails(sapids)\n",
    "list_of_emails\n"
   ]
  },
  {
   "cell_type": "code",
   "execution_count": null,
   "metadata": {},
   "outputs": [],
   "source": []
  }
 ],
 "metadata": {
  "kernelspec": {
   "display_name": "Python 3",
   "language": "python",
   "name": "python3"
  },
  "language_info": {
   "codemirror_mode": {
    "name": "ipython",
    "version": 3
   },
   "file_extension": ".py",
   "mimetype": "text/x-python",
   "name": "python",
   "nbconvert_exporter": "python",
   "pygments_lexer": "ipython3",
   "version": "3.11.5"
  }
 },
 "nbformat": 4,
 "nbformat_minor": 2
}
