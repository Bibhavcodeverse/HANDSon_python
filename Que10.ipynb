{
 "cells": [
  {
   "cell_type": "code",
   "execution_count": 1,
   "metadata": {},
   "outputs": [
    {
     "name": "stdout",
     "output_type": "stream",
     "text": [
      "[1, 2, 3, 4, 5, 6, 7, 8, 9]\n"
     ]
    }
   ],
   "source": [
    "def flatten_list(*args):\n",
    "    flat_list = []\n",
    "    \n",
    "    for item in args:\n",
    "        if isinstance(item, list):  # Check if the item is a list\n",
    "            flat_list.extend(flatten_list(*item))  # Recursively flatten the nested list\n",
    "        else:\n",
    "            flat_list.append(item)  # Append non-list items directly\n",
    "    \n",
    "    return flat_list\n",
    "\n",
    "# Example usage:\n",
    "nested_list = [1, [2, 3, [4, 5]], 6, [7, [8, 9]]]\n",
    "flattened = flatten_list(*nested_list)\n",
    "print(flattened)  # Output: [1, 2, 3, 4, 5, 6, 7, 8, 9]\n"
   ]
  },
  {
   "cell_type": "code",
   "execution_count": null,
   "metadata": {},
   "outputs": [],
   "source": []
  }
 ],
 "metadata": {
  "kernelspec": {
   "display_name": "base",
   "language": "python",
   "name": "python3"
  },
  "language_info": {
   "codemirror_mode": {
    "name": "ipython",
    "version": 3
   },
   "file_extension": ".py",
   "mimetype": "text/x-python",
   "name": "python",
   "nbconvert_exporter": "python",
   "pygments_lexer": "ipython3",
   "version": "3.11.4"
  }
 },
 "nbformat": 4,
 "nbformat_minor": 2
}
